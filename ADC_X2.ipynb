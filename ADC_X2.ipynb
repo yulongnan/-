{
 "cells": [
  {
   "cell_type": "code",
   "execution_count": 1,
   "metadata": {},
   "outputs": [],
   "source": [
    "import os\n",
    "import xlwings\n",
    "import numpy as np\n",
    "import pandas as pd "
   ]
  },
  {
   "cell_type": "code",
   "execution_count": 2,
   "metadata": {},
   "outputs": [],
   "source": [
    "# 常量设置\n",
    "RATIO_USUAL_SCORE = 0.2  # 平时成绩比例\n",
    "RATIO_EXPERIMENT = 0.2   # 实验成绩比例\n",
    "RATIO_FINAL_SCORE = 0.6  # 期末成绩比例\n",
    "RATIO_SCORE_CLASS= RATIO_FINAL_SCORE"
   ]
  },
  {
   "cell_type": "code",
   "execution_count": 3,
   "metadata": {},
   "outputs": [
    {
     "name": "stdout",
     "output_type": "stream",
     "text": [
      "     0       1             2       3        4    5    6    7    8    9    10  \\\n",
      "0   NaN     NaN           NaN     NaN      NaN  NaN  NaN  NaN  NaN  NaN  NaN   \n",
      "1   NaN     NaN           NaN     NaN      NaN  NaN  NaN  NaN  NaN  NaN  NaN   \n",
      "2   NaN     NaN           NaN      题型  简答题（60）  NaN  NaN  NaN  NaN  NaN  NaN   \n",
      "3   NaN     NaN           NaN  课程目标类别        1    1    1    1    2    2    3   \n",
      "4   NaN     NaN           NaN    每题分值        6    6    6    6    6    6    6   \n",
      "..  ...     ...           ...     ...      ...  ...  ...  ...  ...  ...  ...   \n",
      "81   76  B机制192  190701011068     曹远荣        6    6    6    6    6    6    6   \n",
      "82   77  B机制192  190701011073     朱亚东        6    6    6    6    6    6    6   \n",
      "83   78  B机制192  190701011137     冯猛超        6    6    6    6    6    6    6   \n",
      "84   79  B机制192  190701011138     姚宗君        4    6    6    6    6    6    6   \n",
      "85   80  B机制192  190701011149     罗治华        6    6    6    6    6    6    6   \n",
      "\n",
      "     11   12   13       14   15       16   17  \n",
      "0   NaN  NaN  NaN      NaN  NaN      NaN  NaN  \n",
      "1   NaN  NaN  NaN      NaN  NaN      NaN  NaN  \n",
      "2   NaN  NaN  NaN  计算题（20）  NaN  综合题（20）  NaN  \n",
      "3     3    3    3        1    2        3  NaN  \n",
      "4     6    6    6       10   10       20  NaN  \n",
      "..  ...  ...  ...      ...  ...      ...  ...  \n",
      "81    6    6    6       10   10       17   97  \n",
      "82    6    6    6       10    7       15   92  \n",
      "83    6    6    6       10   10       14   94  \n",
      "84    6    6    6       10   10       11   89  \n",
      "85    6    6    6       10   10       14   94  \n",
      "\n",
      "[86 rows x 18 columns]\n",
      "[1 1 1 1 2 2 3 3 3 3 1 2 3]\n"
     ]
    }
   ],
   "source": [
    "Qimo_table = pd.read_excel('2022春_B机制191-192流体力学基础与液压气动技术-V2-20221108.xlsx', \n",
    "                                   index_col=None, header=None, sheet_name='期末考试')\n",
    "print(Qimo_table)\n",
    "course_target_class = np.array((Qimo_table.iloc[3,4:-1])) \n",
    "print(course_target_class) \n"
   ]
  },
  {
   "cell_type": "code",
   "execution_count": 4,
   "metadata": {},
   "outputs": [
    {
     "data": {
      "text/plain": [
       "array([6, 6, 6, 6, 6, 6, 6, 6, 6, 6, 6, 6, 6, 6, 6, 6, 6, 6, 6, 6, 6, 6,\n",
       "       5, 6, 6, 5, 6, 6, 6, 6, 6, 4, 6, 6, 5, 6, 6, 6, 6, 6, 6, 4, 6, 4,\n",
       "       6, 6, 6, 6, 6, 6, 6, 6, 6, 6, 6, 6, 6, 6, 6, 6, 6, 6, 6, 6, 6, 6,\n",
       "       6, 6, 6, 6, 6, 6, 6, 6, 6, 6, 6, 6, 4, 6], dtype=object)"
      ]
     },
     "execution_count": 4,
     "metadata": {},
     "output_type": "execute_result"
    }
   ],
   "source": [
    "Qimo_score = np.array(Qimo_table.iloc[6:,4:-1]) \n",
    "Qimo_score[:,0]\n"
   ]
  },
  {
   "cell_type": "code",
   "execution_count": 5,
   "metadata": {},
   "outputs": [
    {
     "name": "stdout",
     "output_type": "stream",
     "text": [
      "[ 0  1  2  3 10] [ 4  5 11] [ 6  7  8  9 12]\n"
     ]
    }
   ],
   "source": [
    "loc_target_one = np.argwhere(course_target_class==1).reshape((-1)) # 满足条件的索引值\n",
    "loc_target_two = np.argwhere(course_target_class==2).reshape((-1)) # 满足条件的索引值\n",
    "loc_target_three = np.argwhere(course_target_class==3).reshape((-1)) # 满足条件的索引值\n",
    "\n",
    "print(loc_target_one,loc_target_two,loc_target_three)  "
   ]
  },
  {
   "cell_type": "code",
   "execution_count": 6,
   "metadata": {},
   "outputs": [
    {
     "name": "stdout",
     "output_type": "stream",
     "text": [
      "[6 6 6 6 6 6 6 6 6 6 10 10 20]\n"
     ]
    }
   ],
   "source": [
    "Fullscore_each_examination_question = np.array((Qimo_table.iloc[4,4:-1])).reshape((-1))\n",
    "print(Fullscore_each_examination_question) "
   ]
  },
  {
   "cell_type": "code",
   "execution_count": 7,
   "metadata": {},
   "outputs": [
    {
     "data": {
      "text/plain": [
       "100"
      ]
     },
     "execution_count": 7,
     "metadata": {},
     "output_type": "execute_result"
    }
   ],
   "source": [
    "np.sum(Fullscore_each_examination_question,axis=0)"
   ]
  },
  {
   "cell_type": "code",
   "execution_count": 56,
   "metadata": {},
   "outputs": [
    {
     "name": "stdout",
     "output_type": "stream",
     "text": [
      "实际满分(百分制) 34.0\n",
      "[1.    1.    1.    0.912 1.    0.971 1.    1.    1.    1.    0.941 1.\n",
      " 0.971 1.    0.971 0.971 0.971 0.971 0.971 1.    1.    1.    0.971 1.\n",
      " 1.    0.912 1.    0.971 1.    1.    1.    0.941 1.    1.    0.941 0.971\n",
      " 0.971 1.    0.941 0.971 1.    0.941 1.    0.941 1.    0.912 1.    1.\n",
      " 1.    1.    0.971 1.    1.    1.    0.912 0.971 0.971 1.    0.971 0.912\n",
      " 1.    1.    1.    1.    1.    1.    1.    1.    0.912 1.    1.    1.\n",
      " 1.    1.    1.    1.    1.    1.    0.941 1.   ]\n",
      "[20.4   20.4   20.4   18.605 20.4   19.808 20.4   20.4   20.4   20.4\n",
      " 19.196 20.4   19.808 20.4   19.808 19.808 19.808 19.808 19.808 20.4\n",
      " 20.4   20.4   19.808 20.4   20.4   18.605 20.4   19.808 20.4   20.4\n",
      " 20.4   19.196 20.4   20.4   19.196 19.808 19.808 20.4   19.196 19.808\n",
      " 20.4   19.196 20.4   19.196 20.4   18.605 20.4   20.4   20.4   20.4\n",
      " 19.808 20.4   20.4   20.4   18.605 19.808 19.808 20.4   19.808 18.605\n",
      " 20.4   20.4   20.4   20.4   20.4   20.4   20.4   20.4   18.605 20.4\n",
      " 20.4   20.4   20.4   20.4   20.4   20.4   20.4   20.4   19.196 20.4  ]\n",
      "<class 'numpy.ndarray'> (80,)\n"
     ]
    },
    {
     "data": {
      "text/plain": [
       "array([[34, 1.0, 20.4],\n",
       "       [34, 1.0, 20.4],\n",
       "       [34, 1.0, 20.4],\n",
       "       [31, 0.912, 18.605],\n",
       "       [34, 1.0, 20.4],\n",
       "       [33, 0.971, 19.808],\n",
       "       [34, 1.0, 20.4],\n",
       "       [34, 1.0, 20.4],\n",
       "       [34, 1.0, 20.4],\n",
       "       [34, 1.0, 20.4],\n",
       "       [32, 0.941, 19.196],\n",
       "       [34, 1.0, 20.4],\n",
       "       [33, 0.971, 19.808],\n",
       "       [34, 1.0, 20.4],\n",
       "       [33, 0.971, 19.808],\n",
       "       [33, 0.971, 19.808],\n",
       "       [33, 0.971, 19.808],\n",
       "       [33, 0.971, 19.808],\n",
       "       [33, 0.971, 19.808],\n",
       "       [34, 1.0, 20.4],\n",
       "       [34, 1.0, 20.4],\n",
       "       [34, 1.0, 20.4],\n",
       "       [33, 0.971, 19.808],\n",
       "       [34, 1.0, 20.4],\n",
       "       [34, 1.0, 20.4],\n",
       "       [31, 0.912, 18.605],\n",
       "       [34, 1.0, 20.4],\n",
       "       [33, 0.971, 19.808],\n",
       "       [34, 1.0, 20.4],\n",
       "       [34, 1.0, 20.4],\n",
       "       [34, 1.0, 20.4],\n",
       "       [32, 0.941, 19.196],\n",
       "       [34, 1.0, 20.4],\n",
       "       [34, 1.0, 20.4],\n",
       "       [32, 0.941, 19.196],\n",
       "       [33, 0.971, 19.808],\n",
       "       [33, 0.971, 19.808],\n",
       "       [34, 1.0, 20.4],\n",
       "       [32, 0.941, 19.196],\n",
       "       [33, 0.971, 19.808],\n",
       "       [34, 1.0, 20.4],\n",
       "       [32, 0.941, 19.196],\n",
       "       [34, 1.0, 20.4],\n",
       "       [32, 0.941, 19.196],\n",
       "       [34, 1.0, 20.4],\n",
       "       [31, 0.912, 18.605],\n",
       "       [34, 1.0, 20.4],\n",
       "       [34, 1.0, 20.4],\n",
       "       [34, 1.0, 20.4],\n",
       "       [34, 1.0, 20.4],\n",
       "       [33, 0.971, 19.808],\n",
       "       [34, 1.0, 20.4],\n",
       "       [34, 1.0, 20.4],\n",
       "       [34, 1.0, 20.4],\n",
       "       [31, 0.912, 18.605],\n",
       "       [33, 0.971, 19.808],\n",
       "       [33, 0.971, 19.808],\n",
       "       [34, 1.0, 20.4],\n",
       "       [33, 0.971, 19.808],\n",
       "       [31, 0.912, 18.605],\n",
       "       [34, 1.0, 20.4],\n",
       "       [34, 1.0, 20.4],\n",
       "       [34, 1.0, 20.4],\n",
       "       [34, 1.0, 20.4],\n",
       "       [34, 1.0, 20.4],\n",
       "       [34, 1.0, 20.4],\n",
       "       [34, 1.0, 20.4],\n",
       "       [34, 1.0, 20.4],\n",
       "       [31, 0.912, 18.605],\n",
       "       [34, 1.0, 20.4],\n",
       "       [34, 1.0, 20.4],\n",
       "       [34, 1.0, 20.4],\n",
       "       [34, 1.0, 20.4],\n",
       "       [34, 1.0, 20.4],\n",
       "       [34, 1.0, 20.4],\n",
       "       [34, 1.0, 20.4],\n",
       "       [34, 1.0, 20.4],\n",
       "       [34, 1.0, 20.4],\n",
       "       [32, 0.941, 19.196],\n",
       "       [34, 1.0, 20.4]], dtype=object)"
      ]
     },
     "execution_count": 56,
     "metadata": {},
     "output_type": "execute_result"
    }
   ],
   "source": [
    "# 达成度目标 = Num123 计算 \n",
    "### 数据索引 \n",
    "# 学生分数 \n",
    "scorelist_student_target_one=[] \n",
    "\n",
    "for i in range(len(loc_target_one)): \n",
    "    scorelist_student_target_one.append( Qimo_score[:,loc_target_one[i]] ) \n",
    "scorearr_target_one = np.array(scorelist_student_target_one).T \n",
    "# print('学生分数', scorearr_target_one) \n",
    "\n",
    "# 每题题目分数 \n",
    "FullscoreEEQ_list_target_one=[] \n",
    "for i in range(len(loc_target_one)):   \n",
    "    FullscoreEEQ_list_target_one.append(Fullscore_each_examination_question[loc_target_one[i]] )  \n",
    "\n",
    "# print('每题题目分数', FullscoreEEQ_list_target_one)\n",
    "\n",
    "### 数据计算\n",
    "# 实际满分(百分制) - 比例满分 - 学生得分 - 得分比例 - 目标1得分\n",
    "RealFullscore_target_one_Total = sum(FullscoreEEQ_list_target_one) / np.sum(Fullscore_each_examination_question)  *100  # 实际满分(百分制)\n",
    "print('实际满分(百分制)', RealFullscore_target_one_Total)\n",
    "# 比例满分 (乘以比例后的分数) \n",
    "RatioFullscore_target_one = RealFullscore_target_one_Total * RATIO_SCORE_CLASS \n",
    "# 学生得分\n",
    "Score_student_target_one_Total = np.sum(scorearr_target_one, axis=1) \n",
    "# 得分比例\n",
    "Ratio_score_target_one = np.around((Score_student_target_one_Total/RealFullscore_target_one_Total).astype(float) ,decimals=3)\n",
    "print( Ratio_score_target_one ) \n",
    "# 目标1得分 = 比例满分 * 得分比例 \n",
    "Score_target_one =np.around( ( RatioFullscore_target_one * Ratio_score_target_one).astype(float) ,decimals=3)\n",
    "\n",
    "print(Score_target_one)\n",
    "print(type(Score_student_target_one_Total), Ratio_score_target_one.shape)\n",
    "np.c_[ Score_student_target_one_Total, Ratio_score_target_one, Score_target_one]"
   ]
  },
  {
   "cell_type": "code",
   "execution_count": 47,
   "metadata": {},
   "outputs": [],
   "source": [
    "# 达成度目标=NUM 计算\n",
    "### 数据索引\n",
    "# 学生分数\n",
    "def Achievement_Degree_Calcultion_function(loc_target_Num , RATIO_SCORE_CLASS ):  \n",
    "    scorelist_student_target_Num=[] \n",
    "\n",
    "    for i in range(len(loc_target_Num)): \n",
    "        scorelist_student_target_Num.append( Qimo_score[:,loc_target_Num[i]] ) \n",
    "    scorearr_target_Num = np.array(scorelist_student_target_Num).T \n",
    "    # print('学生分数', scorearr_target_Num) \n",
    "\n",
    "    # 每题题目分数 \n",
    "    FullscoreEEQ_list_target_Num=[] \n",
    "    for i in range(len(loc_target_Num)):   \n",
    "        FullscoreEEQ_list_target_Num.append(Fullscore_each_examination_question[loc_target_Num[i]] )  \n",
    "\n",
    "    # print('每题题目分数', FullscoreEEQ_list_target_Num)\n",
    "\n",
    "    ### 数据计算\n",
    "    # 实际满分(百分制) - 比例满分 - 学生得分 - 得分比例 - 目标1得分\n",
    "    RealFullscore_target_Num_Total = sum(FullscoreEEQ_list_target_Num) / np.sum(Fullscore_each_examination_question)  *100  # 实际满分(百分制)\n",
    "    print('实际满分(百分制)', RealFullscore_target_Num_Total)\n",
    "    # 比例满分 (乘以比例后的分数) \n",
    "    RatioFullscore_target_Num = RealFullscore_target_Num_Total * RATIO_SCORE_CLASS \n",
    "    # 学生得分\n",
    "    Score_student_target_Num_Total = np.sum(scorearr_target_Num, axis=1) \n",
    "    # 得分比例\n",
    "    Ratio_score_target_Num = np.around((Score_student_target_Num_Total/RealFullscore_target_Num_Total).astype(float) ,decimals=3)\n",
    "    # print( Ratio_score_target_Num ) \n",
    "    # 目标1得分 = 比例满分 * 得分比例 \n",
    "    Score_target_Num =np.around( ( RatioFullscore_target_Num * Ratio_score_target_Num).astype(float) ,decimals=3)\n",
    "    # print(Score_target_Num)\n",
    "    \n",
    "    return np.c_[Score_student_target_Num_Total, Ratio_score_target_Num, Score_target_Num]"
   ]
  },
  {
   "cell_type": "code",
   "execution_count": 50,
   "metadata": {},
   "outputs": [
    {
     "name": "stdout",
     "output_type": "stream",
     "text": [
      "实际满分(百分制) 34.0\n",
      "[1.    1.    1.    0.912 1.    0.971 1.    1.    1.    1.    0.941 1.\n",
      " 0.971 1.    0.971 0.971 0.971 0.971 0.971 1.    1.    1.    0.971 1.\n",
      " 1.    0.912 1.    0.971 1.    1.    1.    0.941 1.    1.    0.941 0.971\n",
      " 0.971 1.    0.941 0.971 1.    0.941 1.    0.941 1.    0.912 1.    1.\n",
      " 1.    1.    0.971 1.    1.    1.    0.912 0.971 0.971 1.    0.971 0.912\n",
      " 1.    1.    1.    1.    1.    1.    1.    1.    0.912 1.    1.    1.\n",
      " 1.    1.    1.    1.    1.    1.    0.941 1.   ]\n",
      "[20.4   20.4   20.4   18.605 20.4   19.808 20.4   20.4   20.4   20.4\n",
      " 19.196 20.4   19.808 20.4   19.808 19.808 19.808 19.808 19.808 20.4\n",
      " 20.4   20.4   19.808 20.4   20.4   18.605 20.4   19.808 20.4   20.4\n",
      " 20.4   19.196 20.4   20.4   19.196 19.808 19.808 20.4   19.196 19.808\n",
      " 20.4   19.196 20.4   19.196 20.4   18.605 20.4   20.4   20.4   20.4\n",
      " 19.808 20.4   20.4   20.4   18.605 19.808 19.808 20.4   19.808 18.605\n",
      " 20.4   20.4   20.4   20.4   20.4   20.4   20.4   20.4   18.605 20.4\n",
      " 20.4   20.4   20.4   20.4   20.4   20.4   20.4   20.4   19.196 20.4  ]\n",
      "实际满分(百分制) 22.0\n",
      "[1.    1.    0.864 0.818 1.    1.    0.773 1.    0.864 0.864 0.864 0.773\n",
      " 0.864 0.864 0.773 0.864 0.864 0.773 0.864 0.955 1.    1.    0.909 1.\n",
      " 1.    1.    1.    1.    1.    0.864 0.818 0.864 0.909 1.    0.727 0.864\n",
      " 0.864 1.    0.864 0.955 0.864 0.955 0.727 0.955 0.818 1.    0.864 1.\n",
      " 0.818 1.    1.    0.864 0.818 0.818 0.818 0.818 1.    1.    0.818 0.864\n",
      " 1.    1.    0.864 0.818 0.818 1.    1.    1.    0.818 1.    1.    1.\n",
      " 1.    1.    1.    1.    0.864 1.    1.    1.   ]\n",
      "[13.2   13.2   11.405 10.798 13.2   13.2   10.204 13.2   11.405 11.405\n",
      " 11.405 10.204 11.405 11.405 10.204 11.405 11.405 10.204 11.405 12.606\n",
      " 13.2   13.2   11.999 13.2   13.2   13.2   13.2   13.2   13.2   11.405\n",
      " 10.798 11.405 11.999 13.2    9.596 11.405 11.405 13.2   11.405 12.606\n",
      " 11.405 12.606  9.596 12.606 10.798 13.2   11.405 13.2   10.798 13.2\n",
      " 13.2   11.405 10.798 10.798 10.798 10.798 13.2   13.2   10.798 11.405\n",
      " 13.2   13.2   11.405 10.798 10.798 13.2   13.2   13.2   10.798 13.2\n",
      " 13.2   13.2   13.2   13.2   13.2   13.2   11.405 13.2   13.2   13.2  ]\n",
      "实际满分(百分制) 44.0\n",
      "[0.886 0.841 0.841 0.886 0.886 0.864 0.864 0.932 0.864 0.886 0.886 0.886\n",
      " 0.886 0.886 0.886 0.864 0.909 0.909 0.886 0.864 0.909 0.864 0.818 0.864\n",
      " 0.886 0.886 0.886 0.932 0.909 0.886 0.864 0.909 0.886 0.909 0.886 0.932\n",
      " 0.955 0.909 0.886 0.932 0.932 0.886 0.864 0.909 0.864 0.864 0.886 0.841\n",
      " 0.864 0.864 0.886 0.909 0.864 0.909 0.909 0.886 0.909 0.864 0.909 0.932\n",
      " 0.909 0.841 0.886 0.886 0.886 0.818 0.886 0.886 0.909 0.864 0.864 0.841\n",
      " 0.886 0.886 0.909 0.932 0.886 0.864 0.795 0.864]\n",
      "[23.39  22.202 22.202 23.39  23.39  22.81  22.81  24.605 22.81  23.39\n",
      " 23.39  23.39  23.39  23.39  23.39  22.81  23.998 23.998 23.39  22.81\n",
      " 23.998 22.81  21.595 22.81  23.39  23.39  23.39  24.605 23.998 23.39\n",
      " 22.81  23.998 23.39  23.998 23.39  24.605 25.212 23.998 23.39  24.605\n",
      " 24.605 23.39  22.81  23.998 22.81  22.81  23.39  22.202 22.81  22.81\n",
      " 23.39  23.998 22.81  23.998 23.998 23.39  23.998 22.81  23.998 24.605\n",
      " 23.998 22.202 23.39  23.39  23.39  21.595 23.39  23.39  23.998 22.81\n",
      " 22.81  22.202 23.39  23.39  23.998 24.605 23.39  22.81  20.988 22.81 ]\n"
     ]
    }
   ],
   "source": [
    "target_one_arr = Achievement_Degree_Calcultion_function(loc_target_Num = loc_target_one, RATIO_SCORE_CLASS= 0.6 )\n",
    "target_two_arr = Achievement_Degree_Calcultion_function(loc_target_Num = loc_target_two, RATIO_SCORE_CLASS= 0.6 )\n",
    "target_three_arr = Achievement_Degree_Calcultion_function(loc_target_Num = loc_target_three, RATIO_SCORE_CLASS= 0.6 )"
   ]
  },
  {
   "cell_type": "code",
   "execution_count": 60,
   "metadata": {},
   "outputs": [
    {
     "name": "stdout",
     "output_type": "stream",
     "text": [
      "[56.989999999999995 55.80199999999999 54.007000000000005 52.793\n",
      " 56.989999999999995 55.818 53.414 58.205 54.614999999999995 55.195 53.991\n",
      " 53.994 54.603 55.195 53.402 54.022999999999996 55.211 54.010000000000005\n",
      " 54.603 55.816 57.598 56.41 53.402 56.41 56.989999999999995 55.195\n",
      " 56.989999999999995 57.613 57.598 55.195 54.007999999999996\n",
      " 54.599000000000004 55.789 57.598 52.182 55.818 56.425 57.598 53.991\n",
      " 57.019000000000005 56.41 55.192 52.806 55.8 54.007999999999996\n",
      " 54.614999999999995 55.195 55.80199999999999 54.007999999999996 56.41\n",
      " 56.397999999999996 55.803 54.007999999999996 55.196 53.400999999999996\n",
      " 53.996 57.006 56.41 54.604 54.614999999999995 57.598 55.80199999999999\n",
      " 55.195 54.588 54.588 55.19499999999999 56.989999999999995\n",
      " 56.989999999999995 53.400999999999996 56.41 56.41 55.80199999999999\n",
      " 56.989999999999995 56.989999999999995 57.598 58.205 55.195 56.41 53.384\n",
      " 56.41]\n",
      "[57.0 55.8 54.0 52.8 57.0 55.8 53.4 58.199999999999996 54.6\n",
      " 55.199999999999996 54.0 54.0 54.6 55.199999999999996 53.4 54.0\n",
      " 55.199999999999996 54.0 54.6 55.8 57.599999999999994 56.4 53.4 56.4 57.0\n",
      " 55.199999999999996 57.0 57.599999999999994 57.599999999999994\n",
      " 55.199999999999996 54.0 54.6 55.8 57.599999999999994 52.199999999999996\n",
      " 55.8 56.4 57.599999999999994 54.0 57.0 56.4 55.199999999999996 52.8 55.8\n",
      " 54.0 54.6 55.199999999999996 55.8 54.0 56.4 56.4 55.8 54.0\n",
      " 55.199999999999996 53.4 54.0 57.0 56.4 54.6 54.6 57.599999999999994 55.8\n",
      " 55.199999999999996 54.6 54.6 55.199999999999996 57.0 57.0 53.4 56.4 56.4\n",
      " 55.8 57.0 57.0 57.599999999999994 58.199999999999996 55.199999999999996\n",
      " 56.4 53.4 56.4]\n"
     ]
    }
   ],
   "source": [
    "ScoreTotal_Cal_CourseClass_0 = target_one_arr[:,2] + target_two_arr[:,2] + target_three_arr[:,2]\n",
    "print(ScoreTotal_Cal_CourseClass_0 )\n",
    "ScoreTotal_Real_CourseClass_0 = np.sum(Qimo_score, axis=1) * RATIO_SCORE_CLASS\n",
    "print(ScoreTotal_Real_CourseClass_0) "
   ]
  }
 ],
 "metadata": {
  "kernelspec": {
   "display_name": "Python 3.8.8 ('py388')",
   "language": "python",
   "name": "python3"
  },
  "language_info": {
   "codemirror_mode": {
    "name": "ipython",
    "version": 3
   },
   "file_extension": ".py",
   "mimetype": "text/x-python",
   "name": "python",
   "nbconvert_exporter": "python",
   "pygments_lexer": "ipython3",
   "version": "3.8.8"
  },
  "orig_nbformat": 4,
  "vscode": {
   "interpreter": {
    "hash": "677c0435ce1546a17936ac4ebb68e354c483e0b171ba4fe465c88ee614eeb35b"
   }
  }
 },
 "nbformat": 4,
 "nbformat_minor": 2
}
