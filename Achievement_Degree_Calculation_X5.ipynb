{
 "cells": [
  {
   "cell_type": "code",
   "execution_count": 18,
   "metadata": {},
   "outputs": [],
   "source": [
    "import os\n",
    "import xlwings\n",
    "import numpy as np\n",
    "import pandas as pd "
   ]
  },
  {
   "cell_type": "code",
   "execution_count": 19,
   "metadata": {},
   "outputs": [],
   "source": [
    "\n"
   ]
  },
  {
   "cell_type": "code",
   "execution_count": 20,
   "metadata": {},
   "outputs": [],
   "source": [
    "\n",
    "# 获得表格分数数据\n",
    "def Get_Score_Table_info(Score_Table_Class):\n",
    "      # 分数表格-类别 \n",
    "    # print(Score_Table_Class)  \n",
    "\n",
    "    Course_target_class = np.array(Score_Table_Class.iloc[5,4:-1])  # 课程目标类别\n",
    "    # print(course_target_class) \n",
    "    Student_score = np.array(Score_Table_Class.iloc[8:,4:-1]) # 学生分数（各题）\n",
    "    # Student_score[:,0]\n",
    "    Student_info = np.array(Score_Table_Class.iloc[8:,2:4])       # 学生信息 \n",
    "\n",
    "    Score_Table_Head = Score_Table_Class.iloc[:8,:] # 表头数据\n",
    "\n",
    "    # 课程目标 类别 \n",
    "    loc_target_Numall=np.array([])\n",
    "    loc_target_one = np.argwhere(Course_target_class==1).reshape((-1)) # 满足条件的索引值 \n",
    "    loc_target_two = np.argwhere(Course_target_class==2).reshape((-1)) # 满足条件的索引值 \n",
    "    loc_target_three = np.argwhere(Course_target_class==3).reshape((-1)) # 满足条件的索引值 \n",
    "    # print(loc_target_one,loc_target_two,loc_target_three)\n",
    "    loc_target_Numall=[loc_target_one, loc_target_two, loc_target_three] \n",
    "    # print('loc_target_Numall', loc_target_Numall) \n",
    "\n",
    "    # 每题满分 \n",
    "    Fullscore_each_examination_question = np.array((Score_Table_Class.iloc[6,4:-1])).reshape((-1)) \n",
    "    # print(Fullscore_each_examination_question)\n",
    "    return Student_score, Fullscore_each_examination_question, loc_target_Numall, Student_info, Course_target_class, Score_Table_Head\n"
   ]
  },
  {
   "cell_type": "code",
   "execution_count": 21,
   "metadata": {},
   "outputs": [],
   "source": [
    "# 达成度目标=NUM 计算\n",
    "### 数据索引\n",
    "# 学生分数\n",
    "def Achievement_Degree_Calcultion_function(Student_score, Fullscore_each_examination_question, \n",
    "                                           loc_target_Num, RATIO_SCORE_CLASS):  \n",
    "    scorelist_student_target_Num=[] \n",
    "\n",
    "    for i in range(len(loc_target_Num)): \n",
    "        scorelist_student_target_Num.append( Student_score[:,loc_target_Num[i]] ) \n",
    "    scorearr_target_Num = np.array(scorelist_student_target_Num).T \n",
    "    # print('学生分数', scorearr_target_Num) \n",
    "\n",
    "    # 每题题目分数 \n",
    "    FullscoreEEQ_list_target_Num=[] \n",
    "    for i in range(len(loc_target_Num)):   \n",
    "        FullscoreEEQ_list_target_Num.append(Fullscore_each_examination_question[loc_target_Num[i]] )  \n",
    "\n",
    "    # print('每题题目分数', FullscoreEEQ_list_target_Num)\n",
    "\n",
    "    ### 数据计算\n",
    "    # 实际满分(百分制) - 比例满分 - 学生得分 - 得分比例 - 目标1得分\n",
    "    RealFullscore_target_Num_Total = sum(FullscoreEEQ_list_target_Num) / np.sum(Fullscore_each_examination_question)  *100  # 实际满分(百分制)\n",
    "    # print('实际满分(百分制)', RealFullscore_target_Num_Total)\n",
    "    # 比例满分 (乘以比例后的分数) \n",
    "    RatioFullscore_target_Num = RealFullscore_target_Num_Total * RATIO_SCORE_CLASS \n",
    "    # 学生得分(百分制)\n",
    "    Score_student_target_Num_Total = np.sum(scorearr_target_Num, axis=1) / np.sum(Fullscore_each_examination_question) *100 # 实际得分(百分制)\n",
    "    \n",
    "    # 得分比例\n",
    "    Ratio_score_target_Num = np.around((Score_student_target_Num_Total/RealFullscore_target_Num_Total).astype(float) ,decimals=4)\n",
    "    # print( Ratio_score_target_Num ) \n",
    "    # 目标1得分 = 比例满分 * 得分比例 \n",
    "    Score_target_Num =np.around( ( RatioFullscore_target_Num * Ratio_score_target_Num).astype(float) ,decimals=4)\n",
    "    # print(Score_target_Num)\n",
    "    \n",
    "    return np.c_[Score_student_target_Num_Total, Ratio_score_target_Num, Score_target_Num]\n",
    "    "
   ]
  },
  {
   "cell_type": "code",
   "execution_count": 22,
   "metadata": {},
   "outputs": [],
   "source": [
    "# 获得新的表头\n",
    "def Score_Table_Head_Deal(Score_Table_Head):\n",
    "    w_table = Score_Table_Head.shape[1]\n",
    "    Table_Head = Score_Table_Head\n",
    "    # print(w_table)\n",
    "    new_col = Table_Head.columns.to_list() + list(range(w_table,w_table+3*3+2))\n",
    "    Table_Head = Table_Head.reindex(columns=new_col)\n",
    "    namecol_add = ['1', '1°','1得分','2', '2°','2得分','3', '3°','3得分', '计算成绩', '实际成绩']\n",
    "\n",
    "    Table_Head.iloc[1,w_table:] = namecol_add\n",
    "    Table_Head.drop(columns=[0,1],axis=1,inplace=True)\n",
    "    Table_Head.columns = list(range(0,Table_Head.shape[1]))\n",
    "    return Table_Head"
   ]
  },
  {
   "cell_type": "code",
   "execution_count": 23,
   "metadata": {},
   "outputs": [],
   "source": [
    "# 整体平均分 + 各项学生得分占比\n",
    "def AverageScore_ScoreRatio(DataScore_Cal_CourseClass_Num, Fullscore_each_examination_question):\n",
    "    Score_Average =  np.around(np.mean(DataScore_Cal_CourseClass_Num[:,2:],axis = 0).astype(float),decimals=2) \n",
    "    # print(Score_Average) \n",
    "    FS_EEQ_T = np.r_[Fullscore_each_examination_question, np.sum(Fullscore_each_examination_question)]\n",
    "    # print(FS_EEQ_T.shape) \n",
    "    W_scoreratio = np.around( (Score_Average[:-11]/FS_EEQ_T ).astype(float) , decimals=2 )\n",
    "    # print(W_scoreratio) \n",
    "    Score_Average_str = np.r_[np.nan, np.array('平均分'), Score_Average ] \n",
    "    W_scoreratio_str  = np.r_[np.nan, np.array('得分率'), W_scoreratio,  np.full((11),np.nan) ] \n",
    "    Score_Average_str = Score_Average_str.reshape(-1, len(Score_Average_str))\n",
    "    W_scoreratio_str  = W_scoreratio_str.reshape(-1, len(W_scoreratio_str))\n",
    "    return Score_Average_str, W_scoreratio_str"
   ]
  },
  {
   "cell_type": "code",
   "execution_count": 24,
   "metadata": {},
   "outputs": [],
   "source": [
    "# 获得EXCEL==含指定字符\n",
    "def get_excel_file(specified_character ='成绩表模板'): \n",
    "    excel_name =''\n",
    "    for i in (os.listdir()):\n",
    "        if i.split('.')[-1] == 'xlsx' or i.split('.')[-1] == 'xls':\n",
    "            if specified_character in i.split('.')[0]:\n",
    "                excel_name = i\n",
    "    if excel_name=='':        \n",
    "        print('当前文件夹下, 无excel文件') \n",
    "        print('or 无指定字符(%s)的.xlsx或xls文件'%specified_character)\n",
    "    else:\n",
    "        return excel_name"
   ]
  },
  {
   "cell_type": "code",
   "execution_count": 35,
   "metadata": {},
   "outputs": [],
   "source": [
    "\n",
    "# 主函数 - 课程类别（期末成绩-实验成绩-平时成绩）\n",
    "def main_Achievement_Degree_Calcultion_CourseClassNum(Score_table, RATIO_SCORE_CLASS): \n",
    "    # 获得表格分数数据 \n",
    "    Student_score, Fullscore_each_examination_question, loc_target_Numall, Student_info, Course_target_class, Score_Table_Head \\\n",
    "            = Get_Score_Table_info(Score_Table_Class = Score_table) \n",
    "\n",
    "    # 计算达成度数据\n",
    "    for TargetNum in [1,2,3]: \n",
    "        res = Achievement_Degree_Calcultion_function(Student_score, Fullscore_each_examination_question, \n",
    "                                                loc_target_Numall[TargetNum-1], RATIO_SCORE_CLASS) \n",
    "        if TargetNum==1:\n",
    "            Calresult_target_Numall = np.c_[res]\n",
    "        elif TargetNum>1:\n",
    "            Calresult_target_Numall = np.c_[Calresult_target_Numall, res]                                        \n",
    "    # print(Calresult_target_Numall) \n",
    "\n",
    "    # 计算总分 + 实际总分\n",
    "    ScoreTotal_Cal_CourseClass_Num = np.around( np.sum(Calresult_target_Numall[:,2::3] , axis=1).astype(float), decimals=2) \n",
    "    # print(ScoreTotal_Cal_CourseClass_Num )   \n",
    "     \n",
    "    Student_score_percentage = np.sum(Student_score, axis=1) / np.sum(Fullscore_each_examination_question) *100  # 百分制\n",
    "    ScoreTotal_Real_CourseClass_Num = np.around( ( Student_score_percentage * RATIO_SCORE_CLASS).astype(float), decimals=2) \n",
    "    # print(ScoreTotal_Real_CourseClass_Num)  \n",
    "\n",
    "    # 拼接所有数据-1\n",
    "    DataScore_Cal_CourseClass_Num = np.c_[Student_info, Student_score, Student_score_percentage ,np.around(Calresult_target_Numall.astype(float), decimals=2), \\\n",
    "                                    ScoreTotal_Cal_CourseClass_Num, ScoreTotal_Real_CourseClass_Num]\n",
    "\n",
    "    Score_Average_str, W_scoreratio_str = AverageScore_ScoreRatio(DataScore_Cal_CourseClass_Num, Fullscore_each_examination_question)\n",
    "\n",
    "    # 拼接所有数据-2\n",
    "    DataScore_Cal_all_CourseClass_Num = np.r_[DataScore_Cal_CourseClass_Num, Score_Average_str, W_scoreratio_str]\n",
    "    # print(DataScore_Cal_all_CourseClass_Num)\n",
    "\n",
    "    # 最终结果表格写入excel\n",
    "    # 数据表头 \n",
    "    Final_Table_Head = Score_Table_Head_Deal(Score_Table_Head=Score_Table_Head)\n",
    "    # 拼接表头与数据\n",
    "    DataScore_Cal_df=pd.DataFrame(DataScore_Cal_all_CourseClass_Num)\n",
    "    Result_table_Final = pd.concat([Final_Table_Head,DataScore_Cal_df]) \n",
    "    return Result_table_Final\n"
   ]
  },
  {
   "cell_type": "code",
   "execution_count": 37,
   "metadata": {},
   "outputs": [],
   "source": [
    "# 自动载入  '成绩表模板' \n",
    "ExcelName = get_excel_file(specified_character ='成绩表模板') \n",
    "ExcelName_path = os.path.join(os.getcwd(), ExcelName)  # 打开的excel必须关闭，否则没有权限 Permission denied \n",
    "\n",
    "for sheetname in ['平时成绩','实验成绩','期末成绩']: \n",
    "    Score_table = pd.read_excel(ExcelName_path, index_col=None, header=None, sheet_name=sheetname) \n",
    "\n",
    "    if sheetname == '平时成绩':\n",
    "        RATIO_pingshi_score = Score_table.iloc[1,4] # 平时成绩比例\n",
    "        ADC_ScoreClass_pingshi = main_Achievement_Degree_Calcultion_CourseClassNum(Score_table, RATIO_SCORE_CLASS = RATIO_pingshi_score)\n",
    "    elif sheetname == '实验成绩':\n",
    "        RATIO_shiyan_score =  Score_table.iloc[1,4] # 实验成绩比例\n",
    "        ADC_ScoreClass_shiyan = main_Achievement_Degree_Calcultion_CourseClassNum(Score_table, RATIO_SCORE_CLASS = RATIO_shiyan_score)\n",
    "    elif sheetname == '期末成绩':\n",
    "        RATIO_qimo_score = Score_table.iloc[1,4] # 期末成绩比例\n",
    "        ADC_ScoreClass_qimo = main_Achievement_Degree_Calcultion_CourseClassNum(Score_table, RATIO_SCORE_CLASS = RATIO_qimo_score)\n"
   ]
  },
  {
   "cell_type": "code",
   "execution_count": 38,
   "metadata": {},
   "outputs": [],
   "source": [
    "with pd.ExcelWriter('课程达成度评价结果.xlsx', mode='w') as writer: \n",
    "    ADC_ScoreClass_pingshi.to_excel(writer, sheet_name='平时成绩',header=False,index=False,startrow=0, startcol=0)\n",
    "    ADC_ScoreClass_shiyan.to_excel(writer, sheet_name='实验成绩',header=False,index=False,startrow=0, startcol=0)\n",
    "    ADC_ScoreClass_qimo.to_excel(writer, sheet_name='期末成绩',header=False,index=False,startrow=0, startcol=0)"
   ]
  }
 ],
 "metadata": {
  "kernelspec": {
   "display_name": "Python 3.8.8 ('py388')",
   "language": "python",
   "name": "python3"
  },
  "language_info": {
   "codemirror_mode": {
    "name": "ipython",
    "version": 3
   },
   "file_extension": ".py",
   "mimetype": "text/x-python",
   "name": "python",
   "nbconvert_exporter": "python",
   "pygments_lexer": "ipython3",
   "version": "3.8.8"
  },
  "orig_nbformat": 4,
  "vscode": {
   "interpreter": {
    "hash": "677c0435ce1546a17936ac4ebb68e354c483e0b171ba4fe465c88ee614eeb35b"
   }
  }
 },
 "nbformat": 4,
 "nbformat_minor": 2
}
