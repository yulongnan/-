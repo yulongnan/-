{
 "cells": [
  {
   "cell_type": "code",
   "execution_count": 9,
   "metadata": {},
   "outputs": [],
   "source": [
    "import os\n",
    "import xlwings\n",
    "import numpy as np\n",
    "import pandas as pd "
   ]
  },
  {
   "cell_type": "code",
   "execution_count": 10,
   "metadata": {},
   "outputs": [],
   "source": [
    "# 常量设置\n",
    "RATIO_USUAL_SCORE = 0.2  # 平时成绩比例\n",
    "RATIO_EXPERIMENT = 0.2   # 实验成绩比例\n",
    "RATIO_FINAL_SCORE = 0.6  # 期末成绩比例\n",
    "RATIO_SCORE_CLASS= RATIO_FINAL_SCORE"
   ]
  },
  {
   "cell_type": "code",
   "execution_count": 11,
   "metadata": {},
   "outputs": [],
   "source": [
    "Qimo_table = pd.read_excel('2022春_B机制191-192流体力学基础与液压气动技术-V2-20221108.xlsx', \n",
    "                                   index_col=None, header=None, sheet_name='期末考试')\n",
    "\n",
    "# 获得表格分数数据\n",
    "def Get_Score_Table_info(Score_Table_Class):\n",
    "      # 分数表格-类别 \n",
    "    # print(Score_Table_Class)  \n",
    "\n",
    "    Course_target_class = np.array(Score_Table_Class.iloc[5,4:-1])  # 课程目标类别\n",
    "    # print(course_target_class) \n",
    "    Student_score = np.array(Score_Table_Class.iloc[8:,4:-1]) # 学生分数（各题）\n",
    "    # Student_score[:,0]\n",
    "    Student_info = np.array(Score_Table_Class.iloc[8:,2:4])       # 学生信息 \n",
    "\n",
    "    Score_Table_Head = Score_Table_Class.iloc[:8,:] # 表头数据\n",
    "\n",
    "    # 课程目标 类别 \n",
    "    loc_target_Numall=np.array([])\n",
    "    loc_target_one = np.argwhere(Course_target_class==1).reshape((-1)) # 满足条件的索引值 \n",
    "    loc_target_two = np.argwhere(Course_target_class==2).reshape((-1)) # 满足条件的索引值 \n",
    "    loc_target_three = np.argwhere(Course_target_class==3).reshape((-1)) # 满足条件的索引值 \n",
    "    # print(loc_target_one,loc_target_two,loc_target_three)\n",
    "    loc_target_Numall=[loc_target_one, loc_target_two, loc_target_three] \n",
    "    print('loc_target_Numall', loc_target_Numall) \n",
    "\n",
    "    # 每题满分 \n",
    "    Fullscore_each_examination_question = np.array((Score_Table_Class.iloc[6,4:-1])).reshape((-1)) \n",
    "    # print(Fullscore_each_examination_question)\n",
    "    return Student_score, Fullscore_each_examination_question, loc_target_Numall, Student_info, Course_target_class, Score_Table_Head\n"
   ]
  },
  {
   "cell_type": "code",
   "execution_count": 12,
   "metadata": {},
   "outputs": [],
   "source": [
    "# 达成度目标=NUM 计算\n",
    "### 数据索引\n",
    "# 学生分数\n",
    "def Achievement_Degree_Calcultion_function(Student_score, Fullscore_each_examination_question, \n",
    "                                           loc_target_Num, RATIO_SCORE_CLASS):  \n",
    "    scorelist_student_target_Num=[] \n",
    "\n",
    "    for i in range(len(loc_target_Num)): \n",
    "        scorelist_student_target_Num.append( Student_score[:,loc_target_Num[i]] ) \n",
    "    scorearr_target_Num = np.array(scorelist_student_target_Num).T \n",
    "    # print('学生分数', scorearr_target_Num) \n",
    "\n",
    "    # 每题题目分数 \n",
    "    FullscoreEEQ_list_target_Num=[] \n",
    "    for i in range(len(loc_target_Num)):   \n",
    "        FullscoreEEQ_list_target_Num.append(Fullscore_each_examination_question[loc_target_Num[i]] )  \n",
    "\n",
    "    # print('每题题目分数', FullscoreEEQ_list_target_Num)\n",
    "\n",
    "    ### 数据计算\n",
    "    # 实际满分(百分制) - 比例满分 - 学生得分 - 得分比例 - 目标1得分\n",
    "    RealFullscore_target_Num_Total = sum(FullscoreEEQ_list_target_Num) / np.sum(Fullscore_each_examination_question)  *100  # 实际满分(百分制)\n",
    "    print('实际满分(百分制)', RealFullscore_target_Num_Total)\n",
    "    # 比例满分 (乘以比例后的分数) \n",
    "    RatioFullscore_target_Num = RealFullscore_target_Num_Total * RATIO_SCORE_CLASS \n",
    "    # 学生得分\n",
    "    Score_student_target_Num_Total = np.sum(scorearr_target_Num, axis=1) \n",
    "    # 得分比例\n",
    "    Ratio_score_target_Num = np.around((Score_student_target_Num_Total/RealFullscore_target_Num_Total).astype(float) ,decimals=4)\n",
    "    # print( Ratio_score_target_Num ) \n",
    "    # 目标1得分 = 比例满分 * 得分比例 \n",
    "    Score_target_Num =np.around( ( RatioFullscore_target_Num * Ratio_score_target_Num).astype(float) ,decimals=4)\n",
    "    # print(Score_target_Num)\n",
    "    \n",
    "    return np.c_[Score_student_target_Num_Total, Ratio_score_target_Num, Score_target_Num]\n",
    "    "
   ]
  },
  {
   "cell_type": "code",
   "execution_count": 13,
   "metadata": {},
   "outputs": [],
   "source": [
    "# 获得新的表头\n",
    "def Score_Table_Head_Deal(Score_Table_Head):\n",
    "    w_table = Score_Table_Head.shape[1]\n",
    "    Table_Head = Score_Table_Head\n",
    "    # print(w_table)\n",
    "    new_col = Table_Head.columns.to_list() + list(range(w_table,w_table+3*3+2))\n",
    "    Table_Head = Table_Head.reindex(columns=new_col)\n",
    "    namecol_add = ['1', '1°','1得分','2', '2°','2得分','3', '3°','3得分', '计算成绩', '实际成绩']\n",
    "\n",
    "    Table_Head.iloc[1,w_table:] = namecol_add\n",
    "    Table_Head.drop(columns=[0,1],axis=1,inplace=True)\n",
    "    Table_Head.columns = list(range(0,Table_Head.shape[1]))\n",
    "    return Table_Head"
   ]
  },
  {
   "cell_type": "code",
   "execution_count": 119,
   "metadata": {},
   "outputs": [],
   "source": [
    "# 整体平均分 + 各项学生得分占比\n",
    "def AverageScore_ScoreRatio(DataScore_Cal_CourseClass_Num, Fullscore_each_examination_question):\n",
    "    Score_Average =  np.around(np.mean(DataScore_Cal_CourseClass_Num[:,2:],axis = 0).astype(float),decimals=2) \n",
    "    # print(Score_Average) \n",
    "    FS_EEQ_T = np.r_[Fullscore_each_examination_question, np.sum(Fullscore_each_examination_question)]\n",
    "    print(FS_EEQ_T.shape) \n",
    "    W_scoreratio = np.around( (Score_Average[:-11]/FS_EEQ_T ).astype(float) , decimals=2 )\n",
    "    print(W_scoreratio) \n",
    "    Score_Average_str = np.r_[np.nan, np.array('平均分'), Score_Average ] \n",
    "    W_scoreratio_str  = np.r_[np.nan, np.array('得分率'), W_scoreratio,  np.full((11),np.nan) ] \n",
    "    Score_Average_str = Score_Average_str.reshape(-1, len(Score_Average_str))\n",
    "    W_scoreratio_str  = W_scoreratio_str.reshape(-1, len(W_scoreratio_str))\n",
    "    return Score_Average_str, W_scoreratio_str"
   ]
  },
  {
   "cell_type": "code",
   "execution_count": 121,
   "metadata": {},
   "outputs": [
    {
     "name": "stdout",
     "output_type": "stream",
     "text": [
      "loc_target_Numall [array([ 0,  1,  2,  3, 10], dtype=int64), array([ 4,  5, 11], dtype=int64), array([ 6,  7,  8,  9, 12], dtype=int64)]\n",
      "实际满分(百分制) 34.0\n",
      "实际满分(百分制) 22.0\n",
      "实际满分(百分制) 44.0\n",
      "(14,)\n",
      "[0.98 1.   1.   0.99 1.   0.98 1.   1.   1.   1.   0.96 0.83 0.75 0.92]\n",
      "[['1710101202' '庞德放' 6 ... 23.4 57.0 57.0]\n",
      " ['190701011002' '赵文弢' 6 ... 22.2 55.8 55.8]\n",
      " ['190701011003' '潘淼' 6 ... 22.2 54.0 54.0]\n",
      " ...\n",
      " ['190701011149' '罗治华' 6 ... 22.8 56.4 56.4]\n",
      " [nan '平均分' 5.86 ... 23.36 55.48 55.48]\n",
      " [nan '得分率' 0.98 ... nan nan nan]]\n"
     ]
    }
   ],
   "source": [
    "# 自动载入  '成绩表' \n",
    "\n",
    "\n",
    "# 主函数 \n",
    "# 获得表格分数数据 \n",
    "Student_score, Fullscore_each_examination_question, loc_target_Numall, Student_info, Course_target_class, Score_Table_Head \\\n",
    "           = Get_Score_Table_info(Score_Table_Class = Qimo_table) \n",
    "\n",
    "# 计算达成度数据\n",
    "for TargetNum in [1,2,3]: \n",
    "    res = Achievement_Degree_Calcultion_function(Student_score, Fullscore_each_examination_question, \n",
    "                                            loc_target_Numall[TargetNum-1], RATIO_SCORE_CLASS) \n",
    "    if TargetNum==1:\n",
    "        Calresult_target_Numall = np.c_[res]\n",
    "    elif TargetNum>1:\n",
    "        Calresult_target_Numall = np.c_[Calresult_target_Numall, res]                                        \n",
    "# print(Calresult_target_Numall) \n",
    "\n",
    "# 计算总分 + 实际总分\n",
    "ScoreTotal_Cal_CourseClass_Num = np.around( np.sum(Calresult_target_Numall[:,2::3] , axis=1).astype(float), decimals=2) \n",
    "# print(ScoreTotal_Cal_CourseClass_Num )    \n",
    "ScoreTotal_Real_CourseClass_Num = np.around( (np.sum(Student_score, axis=1) * RATIO_SCORE_CLASS).astype(float), decimals=2) \n",
    "# print(ScoreTotal_Real_CourseClass_Num)  \n",
    "\n",
    "# 拼接所有数据-1\n",
    "DataScore_Cal_CourseClass_Num = np.c_[Student_info, Student_score, np.sum(Student_score, axis=1) ,np.around(Calresult_target_Numall.astype(float), decimals=2), \\\n",
    "                                 ScoreTotal_Cal_CourseClass_Num, ScoreTotal_Real_CourseClass_Num]\n",
    "\n",
    "Score_Average_str, W_scoreratio_str = AverageScore_ScoreRatio(DataScore_Cal_CourseClass_Num, Fullscore_each_examination_question)\n",
    "\n",
    "# 拼接所有数据-2\n",
    "DataScore_Cal_all_CourseClass_Num = np.r_[DataScore_Cal_CourseClass_Num, Score_Average_str, W_scoreratio_str]\n",
    "print(DataScore_Cal_all_CourseClass_Num)\n",
    "\n",
    "# 最终结果表格写入excel\n",
    "# 数据表头 \n",
    "Final_Table_Head = Score_Table_Head_Deal(Score_Table_Head=Score_Table_Head)\n",
    "# 拼接表头与数据\n",
    "DataScore_Cal_df=pd.DataFrame(DataScore_Cal_all_CourseClass_Num)\n",
    "Result_table_Final = pd.concat([Final_Table_Head,DataScore_Cal_df])\n",
    "with pd.ExcelWriter('课程达成度评价结果.xlsx', mode='w') as writer:\n",
    "    Result_table_Final.to_excel(writer, sheet_name='期末考试1',header=False,index=False,startrow=0, startcol=0)\n"
   ]
  },
  {
   "cell_type": "code",
   "execution_count": 118,
   "metadata": {},
   "outputs": [],
   "source": [
    "\n"
   ]
  }
 ],
 "metadata": {
  "kernelspec": {
   "display_name": "Python 3.8.8 ('py388')",
   "language": "python",
   "name": "python3"
  },
  "language_info": {
   "codemirror_mode": {
    "name": "ipython",
    "version": 3
   },
   "file_extension": ".py",
   "mimetype": "text/x-python",
   "name": "python",
   "nbconvert_exporter": "python",
   "pygments_lexer": "ipython3",
   "version": "3.8.8"
  },
  "orig_nbformat": 4,
  "vscode": {
   "interpreter": {
    "hash": "677c0435ce1546a17936ac4ebb68e354c483e0b171ba4fe465c88ee614eeb35b"
   }
  }
 },
 "nbformat": 4,
 "nbformat_minor": 2
}
